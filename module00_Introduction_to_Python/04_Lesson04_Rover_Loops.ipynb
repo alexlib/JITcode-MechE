{
 "metadata": {
  "name": "",
  "signature": "sha256:43500e60bd615733cbde44d853ffd9d1c4ff835a96c4e999a1d60e6c44da6cbc"
 },
 "nbformat": 3,
 "nbformat_minor": 0,
 "worksheets": [
  {
   "cells": [
    {
     "cell_type": "heading",
     "level": 1,
     "metadata": {},
     "source": [
      "JIT Code Module 1, Lesson 4"
     ]
    },
    {
     "cell_type": "markdown",
     "metadata": {},
     "source": [
      "In the last lesson we began to investigate how a rover on Mars might navigate the terrain with minimal human input.  However, up until now, we've still had to supply each individual command to our rover.  \n",
      "\n",
      "##Context - Automating Rover Navigation\n",
      "\n",
      "In this lesson, we'll continue to optimize our rover control code and start working on some possible methods of automating rover navigation.  \n",
      "\n",
      "Before we start writing new code, let's import our two constant companions, `numpy` and `matplotlib`."
     ]
    },
    {
     "cell_type": "code",
     "collapsed": false,
     "input": [
      "import numpy \n",
      "import matplotlib.pyplot as plt\n",
      "%matplotlib inline"
     ],
     "language": "python",
     "metadata": {},
     "outputs": [],
     "prompt_number": 1
    },
    {
     "cell_type": "markdown",
     "metadata": {},
     "source": [
      "##Reusing code\n",
      "\n",
      "Since we've already written several functions to control the rover and display its position, let's copy those here so we have them at our disposal.  "
     ]
    },
    {
     "cell_type": "code",
     "collapsed": false,
     "input": [
      "def show_map(terrain):\n",
      "    '''\n",
      "    show_map takes a 2D Numpy array representing a simplified terrain map and prints\n",
      "    out a colorful version using numpy.imshow\n",
      "    '''\n",
      "    plt.figure(figsize=(10, 5))\n",
      "    plt.imshow(terrain, interpolation='none')\n",
      "    plt.xticks([]), plt.yticks([])\n",
      "    plt.show()"
     ],
     "language": "python",
     "metadata": {},
     "outputs": [],
     "prompt_number": 2
    },
    {
     "cell_type": "code",
     "collapsed": false,
     "input": [
      "def move_rover(direction):\n",
      "    '''\n",
      "    move_rover takes a movement direction as a string, either 'up', 'down', 'left'\n",
      "    or 'right' and then returns an appropriate 2-element numpy array which will adjust\n",
      "    a location coordinate array accordingly\n",
      "    '''\n",
      "    if direction == 'up':\n",
      "        return numpy.array([-1,0])\n",
      "    elif direction == 'right':\n",
      "        return numpy.array([0,1])\n",
      "    elif direction == 'down':\n",
      "        return numpy.array([1,0])\n",
      "    else:\n",
      "        return numpy.array([0,-1])"
     ],
     "language": "python",
     "metadata": {},
     "outputs": [],
     "prompt_number": 3
    },
    {
     "cell_type": "markdown",
     "metadata": {},
     "source": [
      "#####Small change\n",
      "\n",
      "Note that in `crash_check_and_move` we've made a small change, so that now we can send  either 'up', 'down', 'left', or 'right' directly, instead of first querying our `move_rover` function.  Instead, the call to `move_rover` is the first line of `crash_check_and_move` so we can change the rover's position with a single command.  "
     ]
    },
    {
     "cell_type": "code",
     "collapsed": false,
     "input": [
      "def crash_check_and_move(location, movement, terrain):\n",
      "    '''\n",
      "    crash_check_and_move takes 3 variables: the current position, the desired movement\n",
      "    to make and the current terrain map (with rover position included).  It checks\n",
      "    that the desired movement is 'allowed' and if it is, performs the movement, \n",
      "    updating both position and the terrain map.  \n",
      "    If the movement is 'illegal', it simply returns the position and terrain map \n",
      "    unchanged.\n",
      "    If the movement will bring rover to the 'destination' it prints out a \n",
      "    congratulatory message.\n",
      "    '''\n",
      "    movement = move_rover(movement)   ##This is the new line to make our lives easier\n",
      "    old_y, old_x = location\n",
      "    new_y, new_x = location + movement\n",
      "    \n",
      "    if terrain[new_y][new_x] != 3 and terrain[new_y][new_x] != 5:\n",
      "        terrain[new_y][new_x] = 1.\n",
      "        terrain[old_y][old_x] = 0\n",
      "        return numpy.array([new_y,new_x])\n",
      "    \n",
      "    elif terrain[new_y][new_x] == 4:\n",
      "        terrain[new_y][new_x] = 1.\n",
      "        terrain[old_y][old_x] = 0\n",
      "        print \"You've reached your destination!\"\n",
      "        return numpy.array([new_y,new_x])\n",
      "    \n",
      "    else:\n",
      "        return location"
     ],
     "language": "python",
     "metadata": {},
     "outputs": [],
     "prompt_number": 4
    },
    {
     "cell_type": "markdown",
     "metadata": {},
     "source": [
      "Now that we have our functions from the previous module loaded, let's go ahead and load up our terrain map again.  We also need to initialize our location coordinates to $[7,7]$."
     ]
    },
    {
     "cell_type": "code",
     "collapsed": false,
     "input": [
      "terrain   = numpy.loadtxt(\"./resources/terraindata/terrain1.csv\",delimiter=\",\")\n",
      "location  = numpy.array([7,7])\n",
      "show_map(terrain)"
     ],
     "language": "python",
     "metadata": {},
     "outputs": [
      {
       "metadata": {},
       "output_type": "display_data",
       "png": "[encoded data removed]",
       "text": [
        "<matplotlib.figure.Figure at 0x7fb40b114cd0>"
       ]
      }
     ],
     "prompt_number": 5
    },
    {
     "cell_type": "markdown",
     "metadata": {},
     "source": [
      "##Automating repetitive tasks\n",
      "\n",
      "You'll recall that in the last lesson, we determined that one route for the rover to take to reach its destination was given by the follow set of movements:\n",
      "\n",
      "*  Move left three times\n",
      "*  Move up once\n",
      "*  Move left two times\n",
      "*  Move up five times\n",
      "*  Move right two times\n",
      "\n",
      "With our movement functions, we've already automated things like obstacle checks, but we still had to call `crash_check_and_move` for every direction and that was kind of a pain.  So now we're going to explore using **loops** to help us further automate the rover motion.  "
     ]
    },
    {
     "cell_type": "markdown",
     "metadata": {},
     "source": [
      "##Loops\n",
      "\n",
      "Loops are a way of running one or more lines of code repeatedly.  Like `if` statements and function definitions, the first line of a loop command ends with a colon, then any lines that are indented underneath are part of the loop.  \n",
      "\n",
      "One of the simplest examples of a loop is the following:"
     ]
    },
    {
     "cell_type": "code",
     "collapsed": false,
     "input": [
      "for i in [1,2,3,4,5]:\n",
      "    print i"
     ],
     "language": "python",
     "metadata": {},
     "outputs": [
      {
       "output_type": "stream",
       "stream": "stdout",
       "text": [
        "1\n",
        "2\n",
        "3\n",
        "4\n",
        "5\n"
       ]
      }
     ],
     "prompt_number": 6
    },
    {
     "cell_type": "markdown",
     "metadata": {},
     "source": [
      "Let's break down what's happening here.  We've asked Python to *iterate* through a set of values, in this case, the numbers one through 5.  It does that by setting the variable `i` equal to the first value in the set, then it executes all of the code below it using that specific value of `i`.  Then, it comes back to the top, sets `i` equal to the second value in the set and goes through all of the code again.  This continues until the loop has run for all of the values in the set we've defined.  \n",
      "\n",
      "Loops don't have to just deal with numbers, either.  Strings can be looped over in exactly the same way:"
     ]
    },
    {
     "cell_type": "code",
     "collapsed": false,
     "input": [
      "for ingredient in ['bacon','lettuce','tomato']:\n",
      "    print ingredient"
     ],
     "language": "python",
     "metadata": {},
     "outputs": [
      {
       "output_type": "stream",
       "stream": "stdout",
       "text": [
        "bacon\n",
        "lettuce\n",
        "tomato\n"
       ]
      }
     ],
     "prompt_number": 7
    },
    {
     "cell_type": "markdown",
     "metadata": {},
     "source": [
      "These are called `for` loops, because they loop over code once for every element in a set that we've defined.  \n",
      "\n",
      "##Looping our rover directions\n",
      "\n",
      "In the last lesson, we had to call `crash_check_and_move` for each individual movement.  Now we're going to do the same thing, but instead of typing them all out ourselves, we'll let the `for` loop handle it instead.  \n",
      "\n",
      "First, we need a list of the individual directions in order.  Consulting our bullet points above leaves us with the following."
     ]
    },
    {
     "cell_type": "code",
     "collapsed": false,
     "input": [
      "direction_list = ['left','left','left','up','left','left','up','up','up','up','up','right','right']"
     ],
     "language": "python",
     "metadata": {},
     "outputs": [],
     "prompt_number": 8
    },
    {
     "cell_type": "code",
     "collapsed": false,
     "input": [
      "print direction_list"
     ],
     "language": "python",
     "metadata": {},
     "outputs": [
      {
       "output_type": "stream",
       "stream": "stdout",
       "text": [
        "['left', 'left', 'left', 'up', 'left', 'left', 'up', 'up', 'up', 'up', 'up', 'right', 'right']\n"
       ]
      }
     ],
     "prompt_number": 9
    },
    {
     "cell_type": "markdown",
     "metadata": {},
     "source": [
      "Ok, now that we've got our direction list ready to go, we want to create a `for` loop that will send those commands one at a time to our `crash_check_and_move` function.  "
     ]
    },
    {
     "cell_type": "code",
     "collapsed": false,
     "input": [
      "for i in direction_list:\n",
      "    location = crash_check_and_move(location,i,terrain)"
     ],
     "language": "python",
     "metadata": {},
     "outputs": [],
     "prompt_number": 10
    },
    {
     "cell_type": "markdown",
     "metadata": {},
     "source": [
      "Ok, if that worked, then we should be able to print out our terrain map and our blue rover square should be at the destination."
     ]
    },
    {
     "cell_type": "code",
     "collapsed": false,
     "input": [
      "show_map(terrain)"
     ],
     "language": "python",
     "metadata": {},
     "outputs": [
      {
       "metadata": {},
       "output_type": "display_data",
       "png": "[encoded data removed]",
       "text": [
        "<matplotlib.figure.Figure at 0x7fb4292ff4d0>"
       ]
      }
     ],
     "prompt_number": 11
    },
    {
     "cell_type": "markdown",
     "metadata": {},
     "source": [
      "It worked!  It's important to recognize that our 2-line loop above is no different than typing out all of those movement commands manually, it's just a lot easier.  \n",
      "\n",
      "##Automating rover movement\n",
      "\n",
      "Our `for` loop has made it much easier to send lots of commands to our rover in just a few lines of code, but we're still telling the rover each turn it has to take.  That isn't going to work very well when the rover is on Mars and we've got a serious communication delay.  \n",
      "\n",
      "So how do we give the rover a set of (relatively) simple commands that will allow it to make its way to the destination point?  \n",
      "\n",
      "Let's try out a simple option.  We'll implement a rover control logic system that uses the following rules:\n",
      "\n",
      "*  If you hit an obstruction, turn right\n",
      "\n",
      "That's it.  Let's see what happens.\n",
      "\n",
      "##How do you turn right?\n",
      "\n",
      "It sounds silly, but what does it mean to turn right if we're observing the rover from above?  Let's break it down.  \n",
      "\n",
      "If the rover is going:\n",
      "\n",
      "*  Left, then a right turn goes up\n",
      "*  Up, then a right turn goes right\n",
      "*  Right, then a right turn goes down\n",
      "*  Down, then a right turn goes left\n",
      "\n",
      "So turning right in our little flatland means cycling through our four commands in the order \n",
      "\n",
      "$$\\text{left} \\rightarrow \\text{up} \\rightarrow \\text{right} \\rightarrow \\text{down}$$\n",
      "\n",
      "and then repeating.  How do we program that?  \n",
      "\n",
      "First, it's usually easier to program cycles of things using numbers, not strings, so let's translate our direction commands into a more convenient system.  "
     ]
    },
    {
     "cell_type": "code",
     "collapsed": false,
     "input": [
      "directions = ['left','up','right','down']"
     ],
     "language": "python",
     "metadata": {},
     "outputs": [],
     "prompt_number": 12
    },
    {
     "cell_type": "markdown",
     "metadata": {},
     "source": [
      "Done!  We just made a list of our four commands.  And now we can refer to them using numbers as follows:"
     ]
    },
    {
     "cell_type": "code",
     "collapsed": false,
     "input": [
      "directions[0]"
     ],
     "language": "python",
     "metadata": {},
     "outputs": [
      {
       "metadata": {},
       "output_type": "pyout",
       "prompt_number": 13,
       "text": [
        "'left'"
       ]
      }
     ],
     "prompt_number": 13
    },
    {
     "cell_type": "code",
     "collapsed": false,
     "input": [
      "directions[2]"
     ],
     "language": "python",
     "metadata": {},
     "outputs": [
      {
       "metadata": {},
       "output_type": "pyout",
       "prompt_number": 14,
       "text": [
        "'right'"
       ]
      }
     ],
     "prompt_number": 14
    },
    {
     "cell_type": "markdown",
     "metadata": {},
     "source": [
      "Ok, now that we can use numbers to refer to those directions, how do we get them to cycle and repeat the way that we want?   \n",
      "\n",
      "The numbers 0 through 3 correspond to our four directions, so we just need a function that counts from 0 to 3, then starts over at 0 again.  And we already have all the tools we need to do that.  "
     ]
    },
    {
     "cell_type": "code",
     "collapsed": false,
     "input": [
      "def turn_right(dir_num):\n",
      "    '''\n",
      "    Increments a direction counter from 0 to 3, then resets to 0\n",
      "    '''\n",
      "    dir_num += 1\n",
      "    if dir_num > 3:\n",
      "        dir_num = 0\n",
      "    \n",
      "    return dir_num"
     ],
     "language": "python",
     "metadata": {},
     "outputs": [],
     "prompt_number": 15
    },
    {
     "cell_type": "markdown",
     "metadata": {},
     "source": [
      "Note that we've used another little Python shortcut `+=`.  It's just a contraction of a longer command that would read\n",
      "```Python\n",
      "dir_num = dir_num + 1\n",
      "```\n",
      "It just takes our variable `dir_num` and adds 1 to it.  Then we've got an `if` statement to check if we've reached a number greater than 3, in which case, we reset back to zero.  Easy as pie.  Let's see if it works.\n",
      "\n",
      "Let's assume we're already going left, 0, and then turn right."
     ]
    },
    {
     "cell_type": "code",
     "collapsed": false,
     "input": [
      "turn_right(0)"
     ],
     "language": "python",
     "metadata": {},
     "outputs": [
      {
       "metadata": {},
       "output_type": "pyout",
       "prompt_number": 16,
       "text": [
        "1"
       ]
      }
     ],
     "prompt_number": 16
    },
    {
     "cell_type": "markdown",
     "metadata": {},
     "source": [
      "We can even feed that directly into our list of `directions`:"
     ]
    },
    {
     "cell_type": "code",
     "collapsed": false,
     "input": [
      "directions[turn_right(0)]"
     ],
     "language": "python",
     "metadata": {},
     "outputs": [
      {
       "metadata": {},
       "output_type": "pyout",
       "prompt_number": 17,
       "text": [
        "'up'"
       ]
      }
     ],
     "prompt_number": 17
    },
    {
     "cell_type": "markdown",
     "metadata": {},
     "source": [
      "Now we should have all the pieces we need for our \"always turn right\" control program.  We'll start the rover moving to the left, then, whenever it hits an obstacle, it will turn right and move in that direction until it hits an obstacle and continue in this way until (or if) it reaches our destination.\n",
      "\n",
      "First, let's reload our terrain data, since we've already \"solved\" this route with our `for` loop above.  "
     ]
    },
    {
     "cell_type": "code",
     "collapsed": false,
     "input": [
      "terrain   = numpy.loadtxt(\"./resources/terraindata/terrain1.csv\",delimiter=\",\")\n",
      "location  = numpy.array([7,7])\n",
      "show_map(terrain)"
     ],
     "language": "python",
     "metadata": {},
     "outputs": [
      {
       "metadata": {},
       "output_type": "display_data",
       "png": "[encoded data removed]",
       "text": [
        "<matplotlib.figure.Figure at 0x7fb40ae2fc10>"
       ]
      }
     ],
     "prompt_number": 18
    },
    {
     "cell_type": "markdown",
     "metadata": {},
     "source": [
      "#####Obstacles\n",
      "\n",
      "How will we know if we hit an obstacle?  If you recall, we programmed `crash_check_and_move` to return the location unchanged if there was an obstacle in the way, so we can check that our \"new\" location is different from our \"old\" location.  If they're the same, then we know we've hit an obstacle and we can `turn_right`."
     ]
    },
    {
     "cell_type": "code",
     "collapsed": false,
     "input": [
      "def always_turn_right(location):\n",
      "    dir_num = 0 #start out moving left\n",
      "    \n",
      "    for i in range(31):\n",
      "        \n",
      "        new_location = crash_check_and_move(location, directions[dir_num], terrain)\n",
      "        \n",
      "        if new_location[0] == location[0] and new_location[1] == location[1]:\n",
      "            dir_num = turn_right(dir_num)\n",
      "        \n",
      "        location = new_location.copy()"
     ],
     "language": "python",
     "metadata": {},
     "outputs": [],
     "prompt_number": 19
    },
    {
     "cell_type": "markdown",
     "metadata": {},
     "source": [
      "Ok, let's give it a shot!"
     ]
    },
    {
     "cell_type": "code",
     "collapsed": false,
     "input": [
      "always_turn_right(location)\n",
      "show_map(terrain)"
     ],
     "language": "python",
     "metadata": {},
     "outputs": [
      {
       "metadata": {},
       "output_type": "display_data",
       "png": "[encoded data removed]",
       "text": [
        "<matplotlib.figure.Figure at 0x7fb40ae2fc50>"
       ]
      }
     ],
     "prompt_number": 20
    },
    {
     "cell_type": "markdown",
     "metadata": {},
     "source": [
      "It worked!  Here's a little video that shows the path that our \"always turn right\" control program yields for the rover:\n",
      "\n",
      "<video controls src=\"./resources/alwaysright.mp4\" />"
     ]
    },
    {
     "cell_type": "markdown",
     "metadata": {},
     "source": [
      "#####31 Steps???\n",
      "\n",
      "This line was kind of random, wasn't it?\n",
      "\n",
      "```Python\n",
      " for i in range(31):\n",
      "```\n",
      "\n",
      "How did we know that we needed to create a `for` loop with 31 steps in it to reach the end?  \n",
      "\n",
      "We didn't.  I cheated.  And cheaters never win.  Especially on Mars.  \n",
      "\n",
      "If we always have to count the right number of steps to feed to our `for` loop, that's really not that much better than just running the commands manually, is it? For tasks like this one, it's better to have a loop that just runs and runs until a given condition is met.  \n",
      "\n",
      "These types of loops are called `while` loops.  They're kind of like a combination of an `if` statement and a loop.  We give the `while` loop a condition and for as long as that condition is true, the loop will continue to run.  Once the condition is met, the loop will stop.  \n",
      "\n",
      "So for our rover program, we can set up the same `always_turn_right` function, but this time we'll use a `while` loop that will run until our `location` is equal to $[1,4]$, the coordinates of our destination.  \n",
      "\n",
      "We can also create a counter variable, that will add one to itself each time the loop executes, so we can count how many iterations the loop went through before the rover arrived at its location.  \n",
      "\n",
      "First we need to reset our terrain map again:"
     ]
    },
    {
     "cell_type": "code",
     "collapsed": false,
     "input": [
      "terrain   = numpy.loadtxt(\"./resources/terraindata/terrain1.csv\",delimiter=\",\")\n",
      "location  = numpy.array([7,7])"
     ],
     "language": "python",
     "metadata": {},
     "outputs": [],
     "prompt_number": 21
    },
    {
     "cell_type": "markdown",
     "metadata": {},
     "source": [
      "##`or` operator\n",
      "The last bit of information we need for the while loop is something called an `or` operator.  In the `for` loop above, we used the `and` operator to write\n",
      "```Python\n",
      "if new_location[0] == location[0] and new_location[1] == location[1]:\n",
      "```\n",
      "which meant that both of the conditions had to evaluate to true for the `if` statement to be true.  \n",
      "\n",
      "The `or` operator, by contrast, allows an `if` statement (or a `while` loop!) to evaluate to true if either or both of the conditions are true.  \n",
      "\n",
      "You've probably seen something called a truth table and it's exactly these same ideas which are used.  \n",
      "\n",
      "For our `while` loop, we want to keep running the code within until we reach our destination cell, $[1,4]$.  Therefore, if either our row number isn't $1$ or our column number isn't $4$, we want to keep going.  "
     ]
    },
    {
     "cell_type": "code",
     "collapsed": false,
     "input": [
      "def always_turn_right(location):\n",
      "    dir_num = 0 #start out moving left\n",
      "    i = 0 #this is our counter variable\n",
      "    \n",
      "    while location[0] != 1 or location[1] != 4:\n",
      "        \n",
      "        new_location = crash_check_and_move(location, directions[dir_num], terrain)\n",
      "        \n",
      "        if new_location[0] == location[0] and new_location[1] == location[1]:\n",
      "            dir_num = turn_right(dir_num)\n",
      "        \n",
      "        location = new_location.copy()\n",
      "        \n",
      "        i += 1\n",
      "        \n",
      "    return i"
     ],
     "language": "python",
     "metadata": {},
     "outputs": [],
     "prompt_number": 22
    },
    {
     "cell_type": "markdown",
     "metadata": {},
     "source": [
      "Let's try out our new function:"
     ]
    },
    {
     "cell_type": "code",
     "collapsed": false,
     "input": [
      "i = always_turn_right(location)\n",
      "show_map(terrain)"
     ],
     "language": "python",
     "metadata": {},
     "outputs": [
      {
       "metadata": {},
       "output_type": "display_data",
       "png": "[encoded data removed]",
       "text": [
        "<matplotlib.figure.Figure at 0x7fb40ae2fc10>"
       ]
      }
     ],
     "prompt_number": 23
    },
    {
     "cell_type": "markdown",
     "metadata": {},
     "source": [
      "That also worked!  Great.  How many iterations did it take?  Let's check on the value of `i`."
     ]
    },
    {
     "cell_type": "code",
     "collapsed": false,
     "input": [
      "print i"
     ],
     "language": "python",
     "metadata": {},
     "outputs": [
      {
       "output_type": "stream",
       "stream": "stdout",
       "text": [
        "31\n"
       ]
      }
     ],
     "prompt_number": 24
    },
    {
     "cell_type": "markdown",
     "metadata": {},
     "source": [
      "Well, that's either a massive coincidence, or I already ran the `while` loop to figure out how many steps to put in the `for` loop.  You be the judge.  \n",
      "\n",
      "Either way, hopefully it's becoming clearer that loops are very powerful, but that you need to choose the right tool for the job to take advantage of their benefits.  "
     ]
    },
    {
     "cell_type": "markdown",
     "metadata": {},
     "source": [
      "##Time for some new terrain\n",
      "\n",
      "How robust is our \"always turn right\" plan?  Well, let's find out.  Instead of loading the file `terrain1.csv`, let's load up `terrain2.csv` and work with that setup instead.  "
     ]
    },
    {
     "cell_type": "code",
     "collapsed": false,
     "input": [
      "terrain   = numpy.loadtxt(\"./resources/terraindata/terrain2.csv\",delimiter=\",\")\n",
      "location  = numpy.array([7,7])\n",
      "show_map(terrain)"
     ],
     "language": "python",
     "metadata": {},
     "outputs": [
      {
       "metadata": {},
       "output_type": "display_data",
       "png": "[encoded data removed]",
       "text": [
        "<matplotlib.figure.Figure at 0x7fb40ae2ffd0>"
       ]
      }
     ],
     "prompt_number": 25
    },
    {
     "cell_type": "markdown",
     "metadata": {},
     "source": [
      "This terrain map is more or less the same as the last one, it just has fewer obstacles.  Should be easier then, right?  Let's try it out.\n",
      "\n",
      "Actually, let's not try it out.  Can you see why it's probably a bad idea to give this map to our `always_turn_right` function?  Here's another video that will show you what can go wrong.\n",
      "\n",
      "<video controls src=\"./resources/alwaysright2.mp4\" />"
     ]
    },
    {
     "cell_type": "markdown",
     "metadata": {},
     "source": [
      "#####Oops.\n",
      "\n",
      "As you can see, our rover gets stuck going in circles.  There are two points to take note of here.\n",
      "\n",
      "First, this lets us know that our \"always turn right\" plan will only work in very special situations where the landscape is set up just *so*.  That doesn't sound very reliable.  \n",
      "\n",
      "Second, `while` loops can be a little dangerous.  While the video above stops after just a few times around, the `while` loop that we wrote above will just keep going.  In fact, if we run this second terrain map in that `while` loop, we'll have to crash Python to make it stop.  \n",
      "\n",
      "#####How to make it stop\n",
      "\n",
      "If you do have a runaway loop, you can always navigate up to the menu on top of this page and select Kernel -> Interrupt Kernel to make it stop.\n",
      "\n",
      "##Keeping `while` loops under control\n",
      "\n",
      "You can always interrupt a `while` loop that's gone off the rails using the Interrupt Kernel menu option, but that's the brute force approach and won't really offer any insight about what's going wrong.  \n",
      "\n",
      "A better option is to build in some safeguards.  In our `while` loop version of `always_turn_right`, we had a variable `i` which we used to count the number of iterations.  One safeguard we can implement is to add an extra `if` statement in the `while` loop that will break the loop if `i` reaches some value that we specify.  \n",
      "\n",
      "To break out of the loop, we use the command `break`.  \n",
      "\n",
      "Let's try it out.  And remember, this isn't going to \"work\" in the sense that the rover will reach its destination.  But at least it will *stop* on its own.  "
     ]
    },
    {
     "cell_type": "code",
     "collapsed": false,
     "input": [
      "def always_turn_right(location):\n",
      "    dir_num = 0 #start out moving left\n",
      "    i = 0 #this is our counter variable\n",
      "    \n",
      "    while location[0] != 1 or location[1] != 4:\n",
      "        \n",
      "        new_location = crash_check_and_move(location, directions[dir_num], terrain)\n",
      "        \n",
      "        if new_location[0] == location[0] and new_location[1] == location[1]:\n",
      "            dir_num = turn_right(dir_num)\n",
      "        \n",
      "        location = new_location.copy()\n",
      "        \n",
      "        i += 1\n",
      "        \n",
      "        if i > 1000:\n",
      "            break\n",
      "        \n",
      "    return i"
     ],
     "language": "python",
     "metadata": {},
     "outputs": [],
     "prompt_number": 26
    },
    {
     "cell_type": "code",
     "collapsed": false,
     "input": [
      "always_turn_right(location)"
     ],
     "language": "python",
     "metadata": {},
     "outputs": [
      {
       "metadata": {},
       "output_type": "pyout",
       "prompt_number": 27,
       "text": [
        "1001"
       ]
      }
     ],
     "prompt_number": 27
    },
    {
     "cell_type": "code",
     "collapsed": false,
     "input": [
      "show_map(terrain)"
     ],
     "language": "python",
     "metadata": {},
     "outputs": [
      {
       "metadata": {},
       "output_type": "display_data",
       "png": "[encoded data removed]",
       "text": [
        "<matplotlib.figure.Figure at 0x7fb40ae2fe50>"
       ]
      }
     ],
     "prompt_number": 28
    },
    {
     "cell_type": "markdown",
     "metadata": {},
     "source": [
      "So the rover hasn't reached its destination, but at least the program stopped running.  \n",
      "\n",
      "So remember, `for` loops have a built in stopping point, for situations where we know exactly how long we want the loop to run.  \n",
      "\n",
      "`while` loops will loop until their condition is met, but if the condition isn't met, they'll just keep going, so we have to exercise a little bit of caution.  (Or just hit interrupt).  "
     ]
    },
    {
     "cell_type": "markdown",
     "metadata": {},
     "source": [
      "##A better control program\n",
      "\n",
      "Always turning right hasn't worked out that well.  We could try always turning left, but that probably won't work well either.  \n",
      "\n",
      "There are a number of increasingly complicated algorithms for navigating any type of maze-like path.  We're going to implement the simplest version, which is called the \"Random Mouse algorithm.\"  \n",
      "\n",
      "Here's how it works:\n",
      "\n",
      "*  Pick a random direction\n",
      "*  Go in that direction until you encounter an obstacle\n",
      "*  Pick a random direction\n",
      "*  Repeat\n",
      "\n",
      "We only need one new NumPy function to complete our random mouse code, which is a function which provides random integers.  It's called `numpy.random.randint` and it provides a random integer within a specified range, where the bottom of the range is *inclusive* and the top of the range is *exclusive*.  Since we have a total of four possible directions, we want a random number from the set $[0,1,2,3]$, so each time we hit an obstacle, we'll ask for a new direction with\n",
      "```Python\n",
      "numpy.random.randint(0,4)\n",
      "```\n",
      "\n",
      "We're also going to be using *two* `while` loops to search for our destination.  The *outer* loop, or *parent* loop, will run until the rover reaches coordinates $[1,4]$.  The *inner* loop, or *child* loop, will run every time we change direction and will keep the rover moving in that direction until we hit the next obstacle.  \n",
      "\n",
      "When we have a `while` loop within another `while` loop, or an `if` statement within another `if` statement, we say that they are *nested*.  "
     ]
    },
    {
     "cell_type": "code",
     "collapsed": false,
     "input": [
      "terrain = numpy.loadtxt('./resources/terraindata/terrain2.csv',delimiter=',')\n",
      "location = numpy.array([7,7])\n",
      "\n",
      "directions = ['up','down','left','right']\n",
      "\n",
      "i = 0\n",
      "new_location = numpy.array([0,0])\n",
      "\n",
      "while location[0] != 1 or location[1] != 4:\n",
      "    \n",
      "    rand_dir_int = numpy.random.randint(0,4)\n",
      "    \n",
      "    rand_dir = directions[rand_dir_int]\n",
      "    \n",
      "    while new_location[0] != location[0] or new_location[1] != location[1]:\n",
      "        new_location = crash_check_and_move(location, rand_dir, terrain)\n",
      "        location = new_location.copy()\n",
      "    \n",
      "    new_location = numpy.array([0,0])\n",
      "    \n",
      "    i+=1\n",
      "\n",
      "show_map(terrain)\n",
      "print i"
     ],
     "language": "python",
     "metadata": {},
     "outputs": [
      {
       "metadata": {},
       "output_type": "display_data",
       "png": "[encoded data removed]",
       "text": [
        "<matplotlib.figure.Figure at 0x7fb40ae6ec50>"
       ]
      },
      {
       "output_type": "stream",
       "stream": "stdout",
       "text": [
        "1320\n"
       ]
      }
     ],
     "prompt_number": 29
    },
    {
     "cell_type": "markdown",
     "metadata": {},
     "source": [
      "It works, but *wow* that's a lot of iterations.  Try running the random mouse code a few more times and see how widely the number of iterations can vary.  It *is* random, after all.  \n",
      "\n",
      "Random mouse is definitely not an efficent way to navigate, but it does work without any extra input from us, so that's definitely progress.  \n",
      "\n",
      "#####Think deeper:  How random is random?\n",
      "\n",
      "As an extra challenge, wrap the entire random mouse code in a `for` loop and run it 1000+ times, saving the number of iterations that each run takes.  Then plot those iterations to see if our `numpy.random.randint` function is really giving us output that seems suitable random.  "
     ]
    },
    {
     "cell_type": "code",
     "collapsed": false,
     "input": [
      "from IPython.core.display import HTML\n",
      "def css_styling():\n",
      "    styles = open(\"../styles/custom.css\", \"r\").read()\n",
      "    return HTML(styles)\n",
      "css_styling()"
     ],
     "language": "python",
     "metadata": {},
     "outputs": [
      {
       "html": [
        "<link href='http://fonts.googleapis.com/css?family=Fenix' rel='stylesheet' type='text/css'>\n",
        "<link href='http://fonts.googleapis.com/css?family=Alegreya+Sans:100,300,400,500,700,800,900,100italic,300italic,400italic,500italic,700italic,800italic,900italic' rel='stylesheet' type='text/css'>\n",
        "<link href='http://fonts.googleapis.com/css?family=Source+Code+Pro:300,400' rel='stylesheet' type='text/css'>\n",
        "<style>\n",
        "    @font-face {\n",
        "        font-family: \"Computer Modern\";\n",
        "        src: url('http://mirrors.ctan.org/fonts/cm-unicode/fonts/otf/cmunss.otf');\n",
        "    }\n",
        "    div.cell{\n",
        "        width:800px;\n",
        "        margin-left:16% !important;\n",
        "        margin-right:auto;\n",
        "    }\n",
        "    h1 {\n",
        "        font-family: 'Alegreya Sans', sans-serif;\n",
        "    }\n",
        "    h2 {\n",
        "        font-family: 'Fenix', serif;\n",
        "    }\n",
        "    h3{\n",
        "\t\tfont-family: 'Fenix', serif;\n",
        "        margin-top:12px;\n",
        "        margin-bottom: 3px;\n",
        "       }\n",
        "\th4{\n",
        "\t\tfont-family: 'Fenix', serif;\n",
        "       }\n",
        "    h5 {\n",
        "        font-family: 'Alegreya Sans', sans-serif;\n",
        "    }\t   \n",
        "    div.text_cell_render{\n",
        "        font-family: 'Alegreya Sans',Computer Modern, \"Helvetica Neue\", Arial, Helvetica, Geneva, sans-serif;\n",
        "        line-height: 135%;\n",
        "        font-size: 120%;\n",
        "        width:600px;\n",
        "        margin-left:auto;\n",
        "        margin-right:auto;\n",
        "    }\n",
        "    .CodeMirror{\n",
        "            font-family: \"Source Code Pro\";\n",
        "\t\t\tfont-size: 90%;\n",
        "    }\n",
        "/*    .prompt{\n",
        "        display: None;\n",
        "    }*/\n",
        "    .text_cell_render h1 {\n",
        "        font-weight: 200;\n",
        "        font-size: 50pt;\n",
        "\t\tline-height: 100%;\n",
        "        color:#CD2305;\n",
        "        margin-bottom: 0.5em;\n",
        "        margin-top: 0.5em;\n",
        "        display: block;\n",
        "    }\t\n",
        "    .text_cell_render h5 {\n",
        "        font-weight: 300;\n",
        "        font-size: 16pt;\n",
        "        color: #CD2305;\n",
        "        font-style: italic;\n",
        "        margin-bottom: .5em;\n",
        "        margin-top: 0.5em;\n",
        "        display: block;\n",
        "    }\n",
        "    \n",
        "    .warning{\n",
        "        color: rgb( 240, 20, 20 )\n",
        "        }  \n",
        "</style>\n",
        "<script>\n",
        "    MathJax.Hub.Config({\n",
        "                        TeX: {\n",
        "                           extensions: [\"AMSmath.js\"]\n",
        "                           },\n",
        "                tex2jax: {\n",
        "                    inlineMath: [ ['$','$'], [\"\\\\(\",\"\\\\)\"] ],\n",
        "                    displayMath: [ ['$$','$$'], [\"\\\\[\",\"\\\\]\"] ]\n",
        "                },\n",
        "                displayAlign: 'center', // Change this to 'center' to center equations.\n",
        "                \"HTML-CSS\": {\n",
        "                    styles: {'.MathJax_Display': {\"margin\": 4}}\n",
        "                }\n",
        "        });\n",
        "</script>\n"
       ],
       "metadata": {},
       "output_type": "pyout",
       "prompt_number": 30,
       "text": [
        "<IPython.core.display.HTML at 0x7fb40ae2f210>"
       ]
      }
     ],
     "prompt_number": 30
    }
   ],
   "metadata": {}
  }
 ]
}